{
 "cells": [
  {
   "cell_type": "markdown",
   "metadata": {},
   "source": [
    "# Reverse Linked List\n",
    "\n",
    "Given the `head` of a singly linked list, reverse the list, and return *the reversed list*.\n",
    "\n",
    "# Thought Process\n",
    "\n",
    "Pretty fundamental problem, and usually we are asked to do this in-place with no extra space. Can try it like this:\n",
    "\n",
    "```\n",
    "None    1 -> 2 -> 3 -> 4\n",
    "^       ^       \n",
    "prev    cur                   cur = head\n",
    "        head\n",
    "\n",
    "None    1 -> 2 -> 3 -> 4\n",
    "^       ^    ^\n",
    "prev    cur  head             head = head.next\n",
    "\n",
    "None <- 1    2 -> 3 -> 4      cur.next = prev\n",
    "^       ^    ^\n",
    "prev    cur  head\n",
    "\n",
    "None <- 1    2 -> 3 -> 4      prev = cur\n",
    "        ^    ^\n",
    "        cur  head\n",
    "        prev\n",
    "\n",
    "```"
   ]
  },
  {
   "cell_type": "code",
   "execution_count": 1,
   "metadata": {},
   "outputs": [],
   "source": [
    "# Definition for singly-linked list.\n",
    "class ListNode:\n",
    "    def __init__(self, val=0, next=None):\n",
    "        self.val = val\n",
    "        self.next = next\n",
    "\n",
    "class Solution:\n",
    "    def reverseList(self, head):\n",
    "        prev = None\n",
    "        while head:\n",
    "            curr = head\n",
    "            head = head.next\n",
    "            curr.next = prev\n",
    "            prev = curr\n",
    "        \n",
    "        return prev"
   ]
  }
 ],
 "metadata": {
  "kernelspec": {
   "display_name": "Python 3.10.6 64-bit",
   "language": "python",
   "name": "python3"
  },
  "language_info": {
   "codemirror_mode": {
    "name": "ipython",
    "version": 3
   },
   "file_extension": ".py",
   "mimetype": "text/x-python",
   "name": "python",
   "nbconvert_exporter": "python",
   "pygments_lexer": "ipython3",
   "version": "3.10.6"
  },
  "orig_nbformat": 4,
  "vscode": {
   "interpreter": {
    "hash": "916dbcbb3f70747c44a77c7bcd40155683ae19c65e1c03b4aa3499c5328201f1"
   }
  }
 },
 "nbformat": 4,
 "nbformat_minor": 2
}
