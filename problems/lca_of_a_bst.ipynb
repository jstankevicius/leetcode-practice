{
 "cells": [
  {
   "cell_type": "markdown",
   "metadata": {},
   "source": [
    "# Lowest Common Ancestor of a Binary Search Tree\n",
    "\n",
    "Given a binary search tree (BST), find the lowest common ancestor (LCA) node of two given nodes in the BST.\n",
    "\n",
    "According to the definition of LCA on Wikipedia: “The lowest common ancestor is defined between two nodes `p` and `q` as the lowest node in T that has both `p` and `q` as descendants (where we allow a node to be a descendant of itself).”\n",
    "\n",
    "# Thought Process\n",
    "\n",
    "Properties of a BST: all values left of the root are smaller than the root, all values to the right of the root are bigger. We have 3 values to work with: `root`, `p`, and `q`. What are the possible configurations of this problem?\n",
    "\n",
    "\n",
    "1. `p, q < root.val`: both `p` and `q` are in the left subtree.\n",
    "2. `p, q > root.val`: both `p` and `q` are in the right subtree.\n",
    "3. one of `p`,`q` is greater than `root.val`, and the other is smaller, or one is equal to `root.val`, i.e. `p` and `q` are in different subtrees. The problem halts here, because going to either one of the child subtrees would make one of `p` or `q` unreachable.\n",
    "\n",
    "This means we need to go into subtrees of `root` until condition #3 is met."
   ]
  },
  {
   "cell_type": "code",
   "execution_count": null,
   "metadata": {},
   "outputs": [],
   "source": [
    "# Definition for a binary tree node.\n",
    "class TreeNode(object):\n",
    "    def __init__(self, x):\n",
    "        self.val = x\n",
    "        self.left = None\n",
    "        self.right = None\n",
    "\n",
    "class Solution(object):\n",
    "    def lowestCommonAncestor(self, root: 'TreeNode', p: 'TreeNode', q: 'TreeNode') -> 'TreeNode':\n",
    "        \"\"\"\n",
    "        :type root: TreeNode\n",
    "        :type p: TreeNode\n",
    "        :type q: TreeNode\n",
    "        :rtype: TreeNode\n",
    "        \"\"\"    \n",
    "        # p, q are in left subtree\n",
    "        if p.val < root.val and q.val < root.val:\n",
    "            return self.lowestCommonAncestor(root.left, p, q)\n",
    "\n",
    "        # p, q are in right subtree\n",
    "        elif p.val > root.val and q.val > root.val:\n",
    "            return self.lowestCommonAncestor(root.right, p, q)\n",
    "\n",
    "        # otherwise, either they are in different subtrees or\n",
    "        # one of them is the root.\n",
    "        else:\n",
    "            return root\n",
    "\n"
   ]
  }
 ],
 "metadata": {
  "language_info": {
   "name": "python"
  },
  "orig_nbformat": 4
 },
 "nbformat": 4,
 "nbformat_minor": 2
}
