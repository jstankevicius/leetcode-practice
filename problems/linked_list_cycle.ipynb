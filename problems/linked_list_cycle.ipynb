{
 "cells": [
  {
   "cell_type": "markdown",
   "metadata": {},
   "source": [
    "# Linked List Cycle\n",
    "\n",
    "\n",
    "Given `head`, the head of a linked list, determine if the linked list has a cycle in it.\n",
    "\n",
    "There is a cycle in a linked list if there is some node in the list that can be reached again by continuously following the next pointer. Internally, `pos` is used to denote the index of the node that tail's next pointer is connected to. Note that `pos` is not passed as a parameter.\n",
    "\n",
    "Return `true` if there is a cycle in the linked list. Otherwise, return `false`.\n",
    "\n",
    "# Thought Process\n",
    "\n",
    "The naive way to do this would be to, for every node, check if walking forward in the list results in us reaching the node again. This would be O(n^2), and probably not ideal.\n",
    "\n",
    "This is a classic \"slow and fast pointer\" problem. `slow` and `fast` start off pointing at `head`, and we reassign them as `slow = slow.next; fast = fast.next.next`. If there is a cycle, at some point `fast` will \"lap\" slow.\n",
    "\n",
    "Side note: I always wondered how it was possible that this idea is actually performant. Isn't it possible for `fast` to somehow keep skipping `slow`?\n",
    "\n",
    "It's not. `fast` will always reach the cycle first, and so at some point will end up behind `slow`. Now, once it is behind, before it ever reaches (or passes) `slow` we'll have one of three scenarios (really two):\n",
    "\n",
    "1. `fast` is 1 element behind `slow`. In this case `fast` will catch `slow` on the next iteration.\n",
    "2. `fast` is 2 elements behind `slow`. In this case `fast` will catch `slow` in 2 iterations, since the next iteration will get us to case 1.\n",
    "3. `fast` is on top of `slow`, in which case the problem is done.\n",
    "\n",
    "\n",
    "It is actually not possible for `fast` to skip `slow`, as I previously thought.\n",
    "\n"
   ]
  },
  {
   "cell_type": "code",
   "execution_count": 1,
   "metadata": {},
   "outputs": [],
   "source": [
    "from typing import Optional\n",
    "\n",
    "# Definition for singly-linked list.\n",
    "class ListNode:\n",
    "    def __init__(self, x):\n",
    "        self.val = x\n",
    "        self.next = None\n",
    "\n",
    "class Solution:\n",
    "    def hasCycle(self, head: Optional[ListNode]) -> bool:\n",
    "        fast = slow = head\n",
    "\n",
    "        while fast and slow:\n",
    "\n",
    "            # fast will always reach the end, if there is one,\n",
    "            # first.\n",
    "            if not fast.next:\n",
    "                return False\n",
    "\n",
    "            slow = slow.next\n",
    "            fast = fast.next.next\n",
    "\n",
    "            if slow == fast:\n",
    "                return True\n",
    "\n",
    "        return False"
   ]
  }
 ],
 "metadata": {
  "kernelspec": {
   "display_name": "Python 3.10.6 64-bit",
   "language": "python",
   "name": "python3"
  },
  "language_info": {
   "codemirror_mode": {
    "name": "ipython",
    "version": 3
   },
   "file_extension": ".py",
   "mimetype": "text/x-python",
   "name": "python",
   "nbconvert_exporter": "python",
   "pygments_lexer": "ipython3",
   "version": "3.10.6"
  },
  "orig_nbformat": 4,
  "vscode": {
   "interpreter": {
    "hash": "916dbcbb3f70747c44a77c7bcd40155683ae19c65e1c03b4aa3499c5328201f1"
   }
  }
 },
 "nbformat": 4,
 "nbformat_minor": 2
}
