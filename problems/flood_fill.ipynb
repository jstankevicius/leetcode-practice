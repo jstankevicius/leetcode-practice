{
 "cells": [
  {
   "cell_type": "markdown",
   "metadata": {},
   "source": [
    "# Flood Fill\n",
    "\n",
    "An image is represented by an m x n integer grid image where `image[i][j]` represents the pixel value of the image.\n",
    "\n",
    "You are also given three integers `sr`, `sc`, and `color`. You should perform a flood fill on the image starting from the pixel `image[sr][sc]`.\n",
    "\n",
    "To perform a flood fill, consider the starting pixel, plus any pixels connected 4-directionally to the starting pixel of the same color as the starting pixel, plus any pixels connected 4-directionally to those pixels (also with the same color), and so on. Replace the color of all of the aforementioned pixels with `color`.\n",
    "\n",
    "Return the modified image after performing the flood fill.\n",
    "\n",
    "# Thought Process\n",
    "\n",
    "This is a pretty standard DFS problem. We need to fill in all pixels that are reachable from `image[sr][sc]`, so we can do either BFS or DFS. \n",
    "\n",
    "Let's say `floodFill` will only get called on pixels that can be filled in - this means that we only call it on neighboring pixels that are the same color as the starting pixel, and fill in the pixel *every time* `floodFill` is called (because we know it was called on a valid pixel). So the code will go something like this:\n",
    "\n",
    "1. Base case: check if the starting pixel is the same color as `color`. If so, return whatever the image is already, since we can't do any more filling.\n",
    "2. Save the pixel's original color in `original`. Fill in the pixel with `color` (if it got past step 1, we know it can be filled in).\n",
    "3. Check the neighboring pixels. If they are the same color as the original pixel, they are eligible to be filled in, so call `floodFill` on those too.\n",
    "4. Return the modified image."
   ]
  },
  {
   "cell_type": "code",
   "execution_count": 1,
   "metadata": {},
   "outputs": [],
   "source": [
    "from typing import List\n",
    "\n",
    "class Solution:\n",
    "    def floodFill(self, image: List[List[int]], sr: int, sc: int, color: int) -> List[List[int]]:\n",
    "        num_rows = len(image)\n",
    "        num_cols = len(image[0])\n",
    "\n",
    "        # The starting pixel is guaranteed to always get filled in.\n",
    "        original = image[sr][sc]\n",
    "\n",
    "        # Early stop. No need to fill in a region that is already the\n",
    "        # same color.\n",
    "        if original == color:\n",
    "            return image\n",
    "        \n",
    "        image[sr][sc] = color\n",
    "\n",
    "        # Now check the 4 directions; they must be the same color\n",
    "        # as the original pixel.\n",
    "\n",
    "        # Check bottom pixel:\n",
    "        if sr + 1 < num_rows and image[sr + 1][sc] == original:\n",
    "            image = self.floodFill(image, sr + 1, sc, color)\n",
    "\n",
    "        # Check top pixel:\n",
    "        if sr - 1 >= 0 and image[sr - 1][sc] == original:\n",
    "            image = self.floodFill(image, sr - 1, sc, color)\n",
    "\n",
    "        # Check left pixel:\n",
    "        if sc - 1 >= 0 and image[sr][sc - 1] == original:\n",
    "            image = self.floodFiwwll(image, sr, sc - 1, color)\n",
    "\n",
    "        # Check right pixel:\n",
    "        if sc + 1 < num_cols and image[sr][sc + 1] == original:\n",
    "            image = self.floodFill(image, sr, sc + 1, color)\n",
    "            \n",
    "        return image"
   ]
  }
 ],
 "metadata": {
  "kernelspec": {
   "display_name": "Python 3.10.6 64-bit",
   "language": "python",
   "name": "python3"
  },
  "language_info": {
   "codemirror_mode": {
    "name": "ipython",
    "version": 3
   },
   "file_extension": ".py",
   "mimetype": "text/x-python",
   "name": "python",
   "nbconvert_exporter": "python",
   "pygments_lexer": "ipython3",
   "version": "3.10.6"
  },
  "orig_nbformat": 4,
  "vscode": {
   "interpreter": {
    "hash": "916dbcbb3f70747c44a77c7bcd40155683ae19c65e1c03b4aa3499c5328201f1"
   }
  }
 },
 "nbformat": 4,
 "nbformat_minor": 2
}
