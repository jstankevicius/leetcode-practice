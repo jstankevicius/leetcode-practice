{
 "cells": [
  {
   "cell_type": "markdown",
   "metadata": {},
   "source": [
    "# Diameter of Binary Tree\n",
    "\n",
    "Given the `root` of a binary tree, return the length of the diameter of the tree.\n",
    "\n",
    "The diameter of a binary tree is the length of the longest path between any two nodes in a tree. This path may or may not pass through the `root`.\n",
    "\n",
    "The length of a path between two nodes is represented by the number of edges between them.\n",
    "\n",
    "# Thought Process\n",
    "\n",
    "The diameter of a binary tree can be found by finding, for every node, the height of the left and right subtrees, adding them, and taking the maximum. \n",
    "\n",
    "We'll need a function that can calculate the height of a tree. For every node, then, we would take the sum of the left and right heights, and pick the maximum value. The maximum value can be determined as we compute the heights; since the height of a tree is `max(height(left), height(right))`, we can figure out the diameter of the path through the node by taking `height(left) + height(right)`. A member variable in the `Solution` class can keep track of the maximum sum."
   ]
  },
  {
   "cell_type": "code",
   "execution_count": 1,
   "metadata": {},
   "outputs": [],
   "source": [
    "from typing import Optional\n",
    "\n",
    "# Definition for a binary tree node.\n",
    "class TreeNode:\n",
    "    def __init__(self, val=0, left=None, right=None):\n",
    "        self.val = val\n",
    "        self.left = left\n",
    "        self.right = right\n",
    "\n",
    "class Solution:\n",
    "\n",
    "    def __init__(self):\n",
    "        self.max_dist = 0\n",
    "    \n",
    "    def height(self, root):\n",
    "        if root is None:\n",
    "            return 0\n",
    "        \n",
    "        left_height = self.height(root.left)\n",
    "        right_height = self.height(root.right)\n",
    "        self.max_dist = max(self.max_dist, left_height + right_height)\n",
    "\n",
    "        return 1 + max(left_height, right_height)\n",
    "\n",
    "    def diameterOfBinaryTree(self, root: Optional[TreeNode]) -> int:\n",
    "        self.height(root)\n",
    "        return self.max_dist"
   ]
  }
 ],
 "metadata": {
  "kernelspec": {
   "display_name": "Python 3.10.6 64-bit",
   "language": "python",
   "name": "python3"
  },
  "language_info": {
   "codemirror_mode": {
    "name": "ipython",
    "version": 3
   },
   "file_extension": ".py",
   "mimetype": "text/x-python",
   "name": "python",
   "nbconvert_exporter": "python",
   "pygments_lexer": "ipython3",
   "version": "3.10.6"
  },
  "orig_nbformat": 4,
  "vscode": {
   "interpreter": {
    "hash": "916dbcbb3f70747c44a77c7bcd40155683ae19c65e1c03b4aa3499c5328201f1"
   }
  }
 },
 "nbformat": 4,
 "nbformat_minor": 2
}
