{
 "cells": [
  {
   "cell_type": "markdown",
   "metadata": {},
   "source": [
    "# Invert Binary Tree\n",
    "\n",
    "Given the `root` of a binary tree, invert the tree, and return its root.\n",
    "\n",
    "# Thought Process\n",
    "\n",
    "This just means flipping left and right. We do this recursively, so we have to do the flipping in the grandchild nodes before we flip our own children."
   ]
  },
  {
   "cell_type": "code",
   "execution_count": null,
   "metadata": {},
   "outputs": [],
   "source": [
    "# Definition for a binary tree node.\n",
    "class TreeNode(object):\n",
    "    def __init__(self, val=0, left=None, right=None):\n",
    "        self.val = val\n",
    "        self.left = left\n",
    "        self.right = right\n",
    "\n",
    "class Solution(object):\n",
    "\n",
    "    def invertTree(self, root):\n",
    "        \"\"\"\n",
    "        :type root: TreeNode\n",
    "        :rtype: TreeNode\n",
    "        \"\"\"\n",
    "        if (root is None):\n",
    "            return\n",
    "        \n",
    "        self.flip(root.left)\n",
    "        self.flip(root.right)\n",
    "\n",
    "        root.left, root.right = root.right, root.left\n",
    "        return root"
   ]
  }
 ],
 "metadata": {
  "language_info": {
   "name": "python"
  },
  "orig_nbformat": 4
 },
 "nbformat": 4,
 "nbformat_minor": 2
}
