{
 "cells": [
  {
   "cell_type": "markdown",
   "metadata": {},
   "source": [
    "# Balanced Binary Tree\n",
    "\n",
    "Given a binary tree, determine if it is height-balanced.\n",
    "\n",
    "For this problem, a height-balanced binary tree is defined as a binary tree in which the left and right subtrees of every node differ in height by no more than 1.\n",
    "\n",
    "# Thought Process\n",
    "\n",
    "This seems recursive. Let's say we have a function that can calculate the height of a subtree; then the tree is height-balanced if `abs(height(root.left) - height(root.right)) <= 1`.\n"
   ]
  },
  {
   "cell_type": "code",
   "execution_count": 1,
   "metadata": {},
   "outputs": [],
   "source": [
    "from typing import Optional\n",
    "\n",
    "# Definition for a binary tree node.\n",
    "class TreeNode:\n",
    "    def __init__(self, val=0, left=None, right=None):\n",
    "        self.val = val\n",
    "        self.left = left\n",
    "        self.right = right\n",
    "\n",
    "class Solution:\n",
    "\n",
    "    def height(self, root):\n",
    "        # We'll return -1 if at any point the height of the left\n",
    "        # and right subtrees differs by more than 1. Since this\n",
    "        # check is done while computing the height, we only\n",
    "        # need to do this once.\n",
    "\n",
    "        # The empty tree has a height of 0.\n",
    "        if not root:\n",
    "            return 0\n",
    "        \n",
    "        # Calculate left height.\n",
    "        left_height = self.height(root.left)\n",
    "        \n",
    "        # If the condition is violated in the left subtree, it is\n",
    "        # violated in the whole tree, so return -1 as well.\n",
    "        if left_height == -1:\n",
    "            return -1\n",
    "        \n",
    "        # Calculate the right height.\n",
    "        right_height = self.height(root.right)\n",
    "        \n",
    "        # If the condition is violated in the right subtree, it is\n",
    "        # violated in the whole tree, so return -1 as well.\n",
    "        if right_height == -1:\n",
    "            return -1\n",
    "        \n",
    "        # How we check if the condition is violated: Having computed\n",
    "        # the heights of the left and right subtrees, we must now\n",
    "        # decide if they are balanced. This is where we'll start\n",
    "        # bubbling up the -1's.\n",
    "        if abs(left_height - right_height) > 1:\n",
    "            return -1\n",
    "        \n",
    "        # If all is well, return the actual height.\n",
    "        return max(left_height, right_height) + 1\n",
    "\n",
    "    def isBalanced(self, root: Optional[TreeNode]) -> bool:\n",
    "        return self.height(root) != -1\n"
   ]
  }
 ],
 "metadata": {
  "kernelspec": {
   "display_name": "Python 3.10.6 64-bit",
   "language": "python",
   "name": "python3"
  },
  "language_info": {
   "codemirror_mode": {
    "name": "ipython",
    "version": 3
   },
   "file_extension": ".py",
   "mimetype": "text/x-python",
   "name": "python",
   "nbconvert_exporter": "python",
   "pygments_lexer": "ipython3",
   "version": "3.10.6"
  },
  "orig_nbformat": 4,
  "vscode": {
   "interpreter": {
    "hash": "916dbcbb3f70747c44a77c7bcd40155683ae19c65e1c03b4aa3499c5328201f1"
   }
  }
 },
 "nbformat": 4,
 "nbformat_minor": 2
}
