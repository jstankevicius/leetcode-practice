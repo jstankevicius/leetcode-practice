{
 "cells": [
  {
   "cell_type": "markdown",
   "metadata": {},
   "source": [
    "# Insert Interval\n",
    "\n",
    "You are given an array of non-overlapping intervals `intervals` where `intervals[i] = [starti, endi]` represent the start and the end of the `i`th interval and `intervals` is sorted in ascending order by `starti`. You are also given an interval `newInterval = [start, end]` that represents the start and end of another interval.\n",
    "\n",
    "Insert `newInterval` into `intervals` such that `intervals` is still sorted in ascending order by `starti` and `intervals` still does not have any overlapping intervals (merge overlapping intervals if necessary).\n",
    "\n",
    "Return `intervals` after the insertion.\n",
    "\n",
    "# Thought Process\n",
    "\n",
    "Two important notes:\n",
    "* `intervals` is sorted in ascending order by `starti`\n",
    "* All the intervals in `intervals` are non-overlapping\n",
    "\n",
    "My initial thought was to do this all in-place, but the more I think about it the more I think that an in-place solution is not possible. It would require us to delete intervals while merging, and deletion inside a Python list is O(n).\n",
    "\n",
    "So we'll instead build up the resulting interval list. It should be pretty easy to tell where to insert the new interval. We can decompose our final list into three parts `left + middle + right`, where `left` is the list of intervals before any overlap occurs, `middle` is the interval that has been merged to eliminate overlap, and `right` is the list of intervals following the overlap.\n",
    "\n",
    "`left` and `right`are easy to construct; they are simply the set of intervals that `newInterval` does not \"touch\". Everything that doesn't belong to `left` or `right` must by elimination belong to `middle`."
   ]
  },
  {
   "cell_type": "code",
   "execution_count": null,
   "metadata": {},
   "outputs": [],
   "source": [
    "from typing import List\n",
    "\n",
    "class Solution:\n",
    "    def insert(self, intervals: List[List[int]], newInterval: List[int]) -> List[List[int]]:\n",
    "        start, end = newInterval\n",
    "        left = []\n",
    "        right = []\n",
    "        for i in intervals:\n",
    "            starti, endi = i\n",
    "\n",
    "            # Our interval starts after `i` ends, so `i` belongs\n",
    "            # to the \"left\" list.\n",
    "            if endi < start:\n",
    "                left.append(i)\n",
    "\n",
    "            # Our interval ends before `i` begins, so `i` belongs\n",
    "            # to the \"right\" list.\n",
    "            elif end < starti:\n",
    "                right.append(i)\n",
    "\n",
    "            # There is some overlap: In this case, adjust start\n",
    "            # and end to span both intervals.\n",
    "            else:\n",
    "                start = min(start, starti)\n",
    "                end = max(end, endi)\n",
    "\n",
    "        return left + [[start, end]] + right"
   ]
  }
 ],
 "metadata": {
  "language_info": {
   "name": "python"
  },
  "orig_nbformat": 4
 },
 "nbformat": 4,
 "nbformat_minor": 2
}
