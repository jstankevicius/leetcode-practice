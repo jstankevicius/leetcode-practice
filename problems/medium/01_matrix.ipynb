{
 "cells": [
  {
   "cell_type": "markdown",
   "metadata": {},
   "source": [
    "# 01 Matrix\n",
    "\n",
    "Given an `m x n` binary matrix `mat`, return the distance of the nearest `0` for each cell.\n",
    "\n",
    "The distance between two adjacent cells is `1`.\n",
    "\n",
    "# Thought Process\n",
    "\n",
    "For any cell `mat[i][j]`, the distance to the nearest 0 is the minimum of the distances from its neighbors, plus 1.\n",
    "\n",
    "This sounds very recursive and either is either a BFS or DP problem.\n",
    "\n",
    "The minimum distance for any square is the minimum distance of its neighbors plus 1. \n",
    "\n",
    "For DP, the trick is to do this in two passes since we can't do it in one. The \"memoization\" array is provided for us - in fact, we have to return it - so we can do this in O(1) space.\n",
    "\n",
    "We'll first iterate top to bottom, left to right (the normal way) and compute the min distances while *only looking at the top and left neighbors*, storing the min distance in the square. On the second pass, we'll go from bottom to top, right to left, while *only looking at the bottom and right neighbors*. Since the minimum distance of the top and left cells is already stored in the cell itself, picking `min(mat[i][j], bottom, righ)` is the same as picking between all the neighbors."
   ]
  },
  {
   "cell_type": "code",
   "execution_count": null,
   "metadata": {},
   "outputs": [],
   "source": [
    "from typing import List\n",
    "\n",
    "class Solution:\n",
    "    def updateMatrix(self, mat: List[List[int]]) -> List[List[int]]:\n",
    "        \n",
    "        for i in range(len(mat)):\n",
    "            for j in range(len(mat[0])):\n",
    "                if mat[i][j] > 0:\n",
    "                    top = mat[i - 1][j] if i > 0 else float('inf')\n",
    "                    left = mat[i][j - 1] if j > 0 else float('inf')\n",
    "\n",
    "                    # Going from the top and left cells, it would take us\n",
    "                    # an extra step to get to this cell. So we add 1 to\n",
    "                    # the min distance from top and left.\n",
    "                    mat[i][j] = min(top, left) + 1\n",
    "        \n",
    "        for i in range(len(mat) - 1, -1, -1):\n",
    "            for j in range(len(mat[0]) - 1, -1, -1):\n",
    "                if mat[i][j] > 0:\n",
    "                    bottom = mat[i + 1][j] if i < len(mat) - 1 else float('inf')\n",
    "                    right = mat[i][j + 1] if j < len(mat[0]) - 1 else float('inf')\n",
    "\n",
    "                    # mat[i][j] already contains `min(top, left) + 1`, so we don't\n",
    "                    # need to add 1 to it. `bottom` and `right` distances don't\n",
    "                    # account for the extra step, so we need to add 1 to those.\n",
    "                    mat[i][j] = min(mat[i][j], bottom + 1, right + 1)\n",
    "        \n",
    "        return mat\n",
    "        "
   ]
  }
 ],
 "metadata": {
  "kernelspec": {
   "display_name": "Python 3.9.13 64-bit",
   "language": "python",
   "name": "python3"
  },
  "language_info": {
   "name": "python",
   "version": "3.9.13"
  },
  "orig_nbformat": 4,
  "vscode": {
   "interpreter": {
    "hash": "b0fa6594d8f4cbf19f97940f81e996739fb7646882a419484c72d19e05852a7e"
   }
  }
 },
 "nbformat": 4,
 "nbformat_minor": 2
}
