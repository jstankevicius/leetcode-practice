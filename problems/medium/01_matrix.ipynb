{
 "cells": [
  {
   "cell_type": "markdown",
   "metadata": {},
   "source": [
    "# 01 Matrix\n",
    "\n",
    "Given an `m x n` binary matrix `mat`, return the distance of the nearest `0` for each cell.\n",
    "\n",
    "The distance between two adjacent cells is `1`.\n",
    "\n",
    "# Thought Process\n",
    "\n",
    "For any cell `mat[i][j]`, the distance to the nearest 0 is the minimum of the distances from its neighbors, plus 1."
   ]
  }
 ],
 "metadata": {
  "language_info": {
   "name": "python"
  },
  "orig_nbformat": 4
 },
 "nbformat": 4,
 "nbformat_minor": 2
}
