{
 "cells": [
  {
   "cell_type": "markdown",
   "metadata": {},
   "source": [
    "# Maximum Subarray\n",
    "\n",
    "Given an integer array `nums`, find the contiguous subarray (containing at least one number) which has the largest sum and return its sum.\n",
    "\n",
    "A **subarray** is a contiguous part of an array."
   ]
  },
  {
   "cell_type": "markdown",
   "metadata": {},
   "source": [
    "## Thought Process:\n",
    "\n",
    "Sounds greedy. We can start off by computing the sum of the subarray starting at the first element.\n",
    "\n",
    "How do we know when to start over with the subarray?\n",
    "\n",
    "When adding the next element would bring the sum to a number lower than the element itself. At that point, we should just start over with the next element. We also keep track of the maximum sum we've seen and return that at the end."
   ]
  },
  {
   "cell_type": "code",
   "execution_count": 2,
   "metadata": {},
   "outputs": [],
   "source": [
    "class Solution:\n",
    "    def maxSubArray(self, nums):\n",
    "        max_sum = nums[0]\n",
    "        cur_max_sum = max_sum\n",
    "        for n in nums[1:]:\n",
    "            if n > cur_max_sum + n:\n",
    "                cur_max_sum = n\n",
    "            else:\n",
    "                cur_max_sum += n\n",
    "            max_sum = max(cur_max_sum, max_sum)\n",
    "        return max_sum"
   ]
  }
 ],
 "metadata": {
  "kernelspec": {
   "display_name": "Python 3.10.6 64-bit",
   "language": "python",
   "name": "python3"
  },
  "language_info": {
   "codemirror_mode": {
    "name": "ipython",
    "version": 3
   },
   "file_extension": ".py",
   "mimetype": "text/x-python",
   "name": "python",
   "nbconvert_exporter": "python",
   "pygments_lexer": "ipython3",
   "version": "3.10.6"
  },
  "orig_nbformat": 4,
  "vscode": {
   "interpreter": {
    "hash": "916dbcbb3f70747c44a77c7bcd40155683ae19c65e1c03b4aa3499c5328201f1"
   }
  }
 },
 "nbformat": 4,
 "nbformat_minor": 2
}
