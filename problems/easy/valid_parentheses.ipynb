{
 "cells": [
  {
   "cell_type": "markdown",
   "metadata": {},
   "source": [
    "# Valid Parentheses\n",
    "\n",
    "Given a string s containing just the characters `(`, `)`, `{`, `}`, `[` and `]`, determine if the input string is valid.\n",
    "\n",
    "An input string is valid if:\n",
    "\n",
    "* Open brackets must be closed by the same type of brackets.\n",
    "* Open brackets must be closed in the correct order.\n"
   ]
  },
  {
   "cell_type": "markdown",
   "metadata": {},
   "source": [
    "## Thought Process\n",
    "\n",
    "Classic stack problem, not much explanation needed. It is made a little more complicated by the fact that we aren't restricted to just `(` and `)` but instead have different types of enclosing elements. However, this doesn't add much additional logic to our code - just two extra cases to check when we're popping from the stack."
   ]
  },
  {
   "cell_type": "markdown",
   "metadata": {},
   "source": [
    "## Solution: O(n) time, O(n) space"
   ]
  },
  {
   "cell_type": "code",
   "execution_count": 1,
   "metadata": {},
   "outputs": [],
   "source": [
    "class Solution:\n",
    "    def isValid(self, s: str) -> bool:\n",
    "\n",
    "        # O(1) dict that maps closing characters to corresponding\n",
    "        # opening characters.\n",
    "        opposite = {\")\":\"(\", \"]\":\"[\", \"}\":\"{\"}\n",
    "        stack = []\n",
    "        for c in s:\n",
    "\n",
    "            # Is this an \"open\" character\n",
    "            if c in opposite.values():\n",
    "                stack.append(c)\n",
    "\n",
    "            # If not, it must be closed:\n",
    "            else:\n",
    "\n",
    "                # Check that there's something that was opened\n",
    "                # prior to closing:\n",
    "                if len(stack) == 0:\n",
    "                    return False\n",
    "                \n",
    "                # Check that the type of the opening character\n",
    "                # matches the closing character.\n",
    "                if opposite[c] != stack.pop():\n",
    "                    return False\n",
    "        \n",
    "        # Once we're done, there should be no opening characters left.\n",
    "        return len(stack) == 0"
   ]
  }
 ],
 "metadata": {
  "kernelspec": {
   "display_name": "Python 3.10.6 64-bit",
   "language": "python",
   "name": "python3"
  },
  "language_info": {
   "codemirror_mode": {
    "name": "ipython",
    "version": 3
   },
   "file_extension": ".py",
   "mimetype": "text/x-python",
   "name": "python",
   "nbconvert_exporter": "python",
   "pygments_lexer": "ipython3",
   "version": "3.10.6"
  },
  "orig_nbformat": 4,
  "vscode": {
   "interpreter": {
    "hash": "916dbcbb3f70747c44a77c7bcd40155683ae19c65e1c03b4aa3499c5328201f1"
   }
  }
 },
 "nbformat": 4,
 "nbformat_minor": 2
}
