{
 "cells": [
  {
   "cell_type": "markdown",
   "metadata": {},
   "source": [
    "# First Bad Version\n",
    "\n",
    "You are a product manager and currently leading a team to develop a new product. Unfortunately, the latest version of your product fails the quality check. Since each version is developed based on the previous version, all the versions after a bad version are also bad.\n",
    "\n",
    "Suppose you have `n` versions `[1, 2, ..., n]` and you want to find out the first bad one, which causes all the following ones to be bad.\n",
    "\n",
    "You are given an API bool `isBadVersion(version)` which returns whether version is bad. Implement a function to find the first bad version. You should minimize the number of calls to the API.\n",
    "\n",
    "# Thought Process\n",
    "\n",
    "It's important to note that versions are in *ascending order*, i.e. sorted. If the bad version is `bad`, then it creates a partition of `[1 .. n]` into `[1 .. bad - 1]` and `[bad .. n]`. We can binary search the interval until the search loop terminates. If `mid` is a bad version, we'll search everything to the left of `mid`. If `mid` is a good version, we'll search everything to the right of `mid.` This will eventually converge to where `low` will be our first bad version."
   ]
  },
  {
   "cell_type": "code",
   "execution_count": 1,
   "metadata": {},
   "outputs": [],
   "source": [
    "# The isBadVersion API is already defined for you.\n",
    "# def isBadVersion(version: int) -> bool:\n",
    "\n",
    "class Solution:\n",
    "    def firstBadVersion(self, n: int) -> int:\n",
    "        low = 1\n",
    "        high = n\n",
    "\n",
    "        while low <= high:\n",
    "            mid = low + int((high - low) / 2)\n",
    "\n",
    "            # If mid is a bad version, we are too far to the\n",
    "            # right.\n",
    "            if isBadVersion(mid):\n",
    "                high = mid - 1\n",
    "            else:\n",
    "                low = mid + 1\n",
    "            \n",
    "        return low\n"
   ]
  }
 ],
 "metadata": {
  "kernelspec": {
   "display_name": "Python 3.10.6 64-bit",
   "language": "python",
   "name": "python3"
  },
  "language_info": {
   "codemirror_mode": {
    "name": "ipython",
    "version": 3
   },
   "file_extension": ".py",
   "mimetype": "text/x-python",
   "name": "python",
   "nbconvert_exporter": "python",
   "pygments_lexer": "ipython3",
   "version": "3.10.6"
  },
  "orig_nbformat": 4,
  "vscode": {
   "interpreter": {
    "hash": "916dbcbb3f70747c44a77c7bcd40155683ae19c65e1c03b4aa3499c5328201f1"
   }
  }
 },
 "nbformat": 4,
 "nbformat_minor": 2
}
