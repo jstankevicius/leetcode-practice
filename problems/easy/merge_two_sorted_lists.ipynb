{
 "cells": [
  {
   "cell_type": "markdown",
   "metadata": {},
   "source": [
    "# Merge Two Sorted Lists\n",
    "\n",
    "You are given the heads of two sorted linked lists `list1` and `list2`.\n",
    "\n",
    "Merge the two lists in a one sorted list. The list should be made by splicing together the nodes of the first two lists.\n",
    "\n",
    "Return the head of the merged linked list.\n",
    "\n",
    "# Thought Process\n",
    "\n",
    "We can divide the problem into two steps:\n",
    "1. Merging the lists when both lists have nodes remaining (i.e. head is not None)\n",
    "2. Merging the lists when one or both lists have no nodes left (i.e. one or more heads are None)\n",
    "\n",
    "The first part is easy - simply add the head with the smallest value to a temporary variable, move the temp variable's next, and move the list's head.\n",
    "\n",
    "After the first part is done, we are left with two possible situations:\n",
    "1. Both lists are None\n",
    "2. Exactly one of the lists is None\n",
    "\n",
    "If both are None, nothing remains to be done, as we've iterated over both lists completely. If exactly one of the lists is None, then we know (by the sorted property) that the remaining list is itself sorted, and can just be added to the end of the accumulated list - no sorting needed."
   ]
  },
  {
   "cell_type": "code",
   "execution_count": 1,
   "metadata": {},
   "outputs": [],
   "source": [
    "from typing import Dict, Optional\n",
    "\n",
    "class ListNode(object):\n",
    "    def __init__(self, val=0, next=None):\n",
    "        self.val = val\n",
    "        self.next = next\n",
    "\n",
    "class Solution:\n",
    "    def mergeTwoLists(self, list1: Optional[ListNode], list2: Optional[ListNode]) -> Optional[ListNode]:\n",
    "        cur = dummy = ListNode()\n",
    "\n",
    "        # While both lists have something in them:\n",
    "        while list1 and list2:               \n",
    "\n",
    "            # If the first head is smaller than the second,\n",
    "            # add the head to the `cur` list, then move list1's\n",
    "            # head forward and move cur to the next element.\n",
    "            if list1.val < list2.val:\n",
    "                cur.next = list1\n",
    "                list1, cur = list1.next, list1\n",
    "\n",
    "\n",
    "            # Otherwise, do the above but with list2\n",
    "            else:\n",
    "                cur.next = list2\n",
    "                list2, cur = list2.next, list2\n",
    "        \n",
    "        # If either of the lists still has something remaining,\n",
    "        # add the list to the end of cur.\n",
    "        if list1 or list2:\n",
    "            cur.next = list1 if list1 else list2\n",
    "            \n",
    "        return dummy.next\n"
   ]
  }
 ],
 "metadata": {
  "kernelspec": {
   "display_name": "Python 3.10.6 64-bit",
   "language": "python",
   "name": "python3"
  },
  "language_info": {
   "codemirror_mode": {
    "name": "ipython",
    "version": 3
   },
   "file_extension": ".py",
   "mimetype": "text/x-python",
   "name": "python",
   "nbconvert_exporter": "python",
   "pygments_lexer": "ipython3",
   "version": "3.10.6"
  },
  "orig_nbformat": 4,
  "vscode": {
   "interpreter": {
    "hash": "916dbcbb3f70747c44a77c7bcd40155683ae19c65e1c03b4aa3499c5328201f1"
   }
  }
 },
 "nbformat": 4,
 "nbformat_minor": 2
}
