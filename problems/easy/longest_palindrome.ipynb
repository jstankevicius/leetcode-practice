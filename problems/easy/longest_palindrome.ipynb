{
 "cells": [
  {
   "cell_type": "markdown",
   "metadata": {},
   "source": [
    "# Longest Palindrome\n",
    "\n",
    "Given a string `s` which consists of lowercase or uppercase letters, return the length of the longest palindrome that can be built with those letters.\n",
    "\n",
    "Letters are case sensitive, for example, \"Aa\" is not considered a palindrome here.\n",
    "\n",
    "# Thought Process\n",
    "\n",
    "To add letters to a palindrome, we can take two of the same letter from our input string and add them to either end. For every letter we have, we should generally take the largest even number. We can also take an odd number of letters if an odd number has not been taken yet; the \"extra\" element will become our middle element."
   ]
  },
  {
   "cell_type": "code",
   "execution_count": 1,
   "metadata": {},
   "outputs": [],
   "source": [
    "from collections import defaultdict\n",
    "\n",
    "class Solution:\n",
    "    def longestPalindrome(self, s: str) -> int:\n",
    "        counts = defaultdict(lambda: 0)\n",
    "        for c in s:\n",
    "            counts[c] += 1\n",
    "\n",
    "        length = 0\n",
    "        has_middle = False\n",
    "        for count in counts.values():\n",
    "            if count % 2 == 0:\n",
    "                length += count\n",
    "            else:\n",
    "\n",
    "                # If we have a middle already and the\n",
    "                # count is odd, take the largest even\n",
    "                # number (which is just count - 1).\n",
    "                if has_middle:\n",
    "                    length += count - 1\n",
    "                else:\n",
    "                    length += count\n",
    "                    has_middle = True\n",
    "        \n",
    "        return length"
   ]
  }
 ],
 "metadata": {
  "kernelspec": {
   "display_name": "Python 3.10.6 64-bit",
   "language": "python",
   "name": "python3"
  },
  "language_info": {
   "codemirror_mode": {
    "name": "ipython",
    "version": 3
   },
   "file_extension": ".py",
   "mimetype": "text/x-python",
   "name": "python",
   "nbconvert_exporter": "python",
   "pygments_lexer": "ipython3",
   "version": "3.10.6"
  },
  "orig_nbformat": 4,
  "vscode": {
   "interpreter": {
    "hash": "916dbcbb3f70747c44a77c7bcd40155683ae19c65e1c03b4aa3499c5328201f1"
   }
  }
 },
 "nbformat": 4,
 "nbformat_minor": 2
}
