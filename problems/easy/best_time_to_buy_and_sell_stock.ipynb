{
 "cells": [
  {
   "cell_type": "markdown",
   "metadata": {},
   "source": [
    "# Best Time to Buy and Sell Stock\n",
    "\n",
    "You are given an array `prices` where `prices[i]` is the price of a given stock on the `i`th day.\n",
    "\n",
    "You want to maximize your profit by choosing a single day to buy one stock and choosing a different day in the future to sell that stock.\n",
    "\n",
    "Return the maximum profit you can achieve from this transaction. If you cannot achieve any profit, return 0."
   ]
  },
  {
   "cell_type": "markdown",
   "metadata": {},
   "source": [
    "## Thought Process\n",
    "\n",
    "This involves finding a pair of indices `a`, `b` such that `nums[a] - nums[b]` is maximized, and `a > b`.\n",
    "\n",
    "Since we're finding a pair, naive way might be to enumerate all the pairs."
   ]
  },
  {
   "cell_type": "code",
   "execution_count": 1,
   "metadata": {},
   "outputs": [],
   "source": [
    "class Solution:\n",
    "    def maxProfit(self, prices):\n",
    "        max_profit = 0\n",
    "        n = len(prices)\n",
    "        for i in range(n):\n",
    "            for j in range(i):\n",
    "                if i > j:\n",
    "                    max_profit = max(max_profit, prices[i] - prices[j])\n",
    "\n",
    "        return max_profit"
   ]
  },
  {
   "cell_type": "markdown",
   "metadata": {},
   "source": [
    "This is obviously terrible, since it's O(n^2). Okay, so what do we do?\n",
    "\n",
    "If you imagine yourself as a stock trader, the ideal way to buy and sell a stock is to\n",
    "1. Time the bottom perfectly (buy when it's lowest)\n",
    "2. Tiem the top perfectly (sell when it's highest)\n",
    "\n",
    "This means we should find the bottom and the top of the array, a pair where the top is ahead of the bottom. This will always result in the maximum possible profit. If we fix an arbitrary top, then the optimal price at which we should have purchased the stock is one where the price is lowest before the top. If we fix an arbitrary bottom, the optimal price is the largest price ahead of the bottom."
   ]
  },
  {
   "cell_type": "markdown",
   "metadata": {},
   "source": [
    "## Solution: O(n) time, O(1) space:"
   ]
  },
  {
   "cell_type": "code",
   "execution_count": 2,
   "metadata": {},
   "outputs": [],
   "source": [
    "class Solution:\n",
    "    def maxProfit(self, prices):\n",
    "        lowest_price = prices[0]\n",
    "        max_profit = 0\n",
    "        for i in range(len(prices)):\n",
    "            lowest_price = min(lowest_price, prices[i])\n",
    "            max_profit = max(max_profit, prices[i] - lowest_price)\n",
    "\n",
    "        return max_profit"
   ]
  }
 ],
 "metadata": {
  "kernelspec": {
   "display_name": "Python 3.10.6 64-bit",
   "language": "python",
   "name": "python3"
  },
  "language_info": {
   "codemirror_mode": {
    "name": "ipython",
    "version": 3
   },
   "file_extension": ".py",
   "mimetype": "text/x-python",
   "name": "python",
   "nbconvert_exporter": "python",
   "pygments_lexer": "ipython3",
   "version": "3.10.6"
  },
  "orig_nbformat": 4,
  "vscode": {
   "interpreter": {
    "hash": "916dbcbb3f70747c44a77c7bcd40155683ae19c65e1c03b4aa3499c5328201f1"
   }
  }
 },
 "nbformat": 4,
 "nbformat_minor": 2
}
