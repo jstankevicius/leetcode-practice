{
 "cells": [
  {
   "cell_type": "markdown",
   "metadata": {},
   "source": [
    "# Ransom Note\n",
    "\n",
    "Given two strings `ransomNote` and `magazine`, return `true` if `ransomNote` can be constructed by using the letters from `magazine` and false otherwise.\n",
    "\n",
    "Each letter in `magazine` can only be used once in `ransomNote`.\n",
    "\n",
    "# Thought Process\n",
    "\n",
    "This is just a more relaxed version of the \"Valid Anagram\" problem, with the requirement that *all letters in* `ransomNote` *must appear in* `magazine`."
   ]
  },
  {
   "cell_type": "code",
   "execution_count": 1,
   "metadata": {},
   "outputs": [],
   "source": [
    "class Solution:\n",
    "    def canConstruct(self, ransomNote: str, magazine: str) -> bool:\n",
    "        counts = [0] * 26\n",
    "\n",
    "        for letter in magazine:\n",
    "            # 'a' must map to 0, 'z' to 25.\n",
    "            counts[ord(letter) - ord(\"a\")] += 1\n",
    "\n",
    "        for letter in ransomNote:\n",
    "            counts[ord(letter) - ord(\"a\")] -= 1\n",
    "\n",
    "        for count in counts:\n",
    "            if count < 0:\n",
    "                return False\n",
    "        \n",
    "        return True\n",
    "        "
   ]
  }
 ],
 "metadata": {
  "kernelspec": {
   "display_name": "Python 3.10.6 64-bit",
   "language": "python",
   "name": "python3"
  },
  "language_info": {
   "codemirror_mode": {
    "name": "ipython",
    "version": 3
   },
   "file_extension": ".py",
   "mimetype": "text/x-python",
   "name": "python",
   "nbconvert_exporter": "python",
   "pygments_lexer": "ipython3",
   "version": "3.10.6"
  },
  "orig_nbformat": 4,
  "vscode": {
   "interpreter": {
    "hash": "916dbcbb3f70747c44a77c7bcd40155683ae19c65e1c03b4aa3499c5328201f1"
   }
  }
 },
 "nbformat": 4,
 "nbformat_minor": 2
}
