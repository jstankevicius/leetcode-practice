{
 "cells": [
  {
   "cell_type": "markdown",
   "metadata": {},
   "source": [
    "# Product of Array Except Self\n",
    "\n",
    "Given an integer array `nums`, return an array answer such that `answer[i]` is equal to the product of all the elements of `nums` except `nums[i]`.\n",
    "\n",
    "The product of any prefix or suffix of `nums` is guaranteed to fit in a 32-bit integer.\n",
    "\n",
    "You must write an algorithm that runs in O(n) time and without using the division operation."
   ]
  },
  {
   "cell_type": "markdown",
   "metadata": {},
   "source": [
    "# Thought Process:\n",
    "\n",
    "O(n) time, but this doesn't seem possible to do with O(1) space. Maybe O(n) space?\n",
    "\n",
    "An idea is to keep an array of prefix products. This would require one iteration. Then on the second iteration we go backwards, keeping a postfix product. Then we multiply that into the prefix array."
   ]
  },
  {
   "cell_type": "code",
   "execution_count": 1,
   "metadata": {},
   "outputs": [],
   "source": [
    "class Solution:\n",
    "    def productExceptSelf(self, nums):\n",
    "        products = [1] * len(nums)\n",
    "        cur_product = 1\n",
    "\n",
    "        # Calculate prefixes:\n",
    "        for i in range(1, len(nums)):\n",
    "            cur_product *= nums[i - 1]\n",
    "            products[i] = cur_product\n",
    "\n",
    "        # Now calculate postfixes:\n",
    "        cur_product = 1\n",
    "        for i in range(len(nums) - 2, -1, -1):\n",
    "            cur_product *= nums[i + 1]\n",
    "            products[i] *= cur_product\n",
    "\n",
    "        return products\n",
    "        "
   ]
  }
 ],
 "metadata": {
  "kernelspec": {
   "display_name": "Python 3.10.6 64-bit",
   "language": "python",
   "name": "python3"
  },
  "language_info": {
   "codemirror_mode": {
    "name": "ipython",
    "version": 3
   },
   "file_extension": ".py",
   "mimetype": "text/x-python",
   "name": "python",
   "nbconvert_exporter": "python",
   "pygments_lexer": "ipython3",
   "version": "3.10.6"
  },
  "orig_nbformat": 4,
  "vscode": {
   "interpreter": {
    "hash": "916dbcbb3f70747c44a77c7bcd40155683ae19c65e1c03b4aa3499c5328201f1"
   }
  }
 },
 "nbformat": 4,
 "nbformat_minor": 2
}
