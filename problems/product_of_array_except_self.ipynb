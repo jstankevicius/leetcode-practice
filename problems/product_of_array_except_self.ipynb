{
 "cells": [
  {
   "cell_type": "markdown",
   "metadata": {},
   "source": [
    "# Product of Array Except Self\n",
    "\n",
    "Given an integer array `nums`, return an array answer such that `answer[i]` is equal to the product of all the elements of `nums` except `nums[i]`.\n",
    "\n",
    "The product of any prefix or suffix of `nums` is guaranteed to fit in a 32-bit integer.\n",
    "\n",
    "You must write an algorithm that runs in O(n) time and without using the division operation."
   ]
  },
  {
   "cell_type": "markdown",
   "metadata": {},
   "source": [
    "# Thought Process:\n",
    "\n",
    "O(n) time, but this doesn't seem possible to do with O(1) space. Maybe O(n) space?\n",
    "\n",
    "An idea is to keep an array of prefix products. This would require one iteration. Then on the second iteration we go backwards, keeping a postfix product. Then we multiply that into the prefix array."
   ]
  },
  {
   "cell_type": "code",
   "execution_count": null,
   "metadata": {},
   "outputs": [],
   "source": [
    "class Solution:\n",
    "    def productExceptSelf(self, nums):\n",
    "        products = [1] * len(nums)\n",
    "        cur_product = 1\n",
    "\n",
    "        # Calculate prefixes:\n",
    "        for i in range(1, len(nums)):\n",
    "            cur_product *= nums[i - 1]\n",
    "            products[i] = cur_product\n",
    "\n",
    "        # Now calculate postfixes:\n",
    "        cur_product = 1\n",
    "        for i in range(len(nums) - 2, -1, -1):\n",
    "            cur_product *= nums[i + 1]\n",
    "            products[i] *= cur_product\n",
    "\n",
    "        return products\n",
    "        "
   ]
  }
 ],
 "metadata": {
  "language_info": {
   "name": "python"
  },
  "orig_nbformat": 4
 },
 "nbformat": 4,
 "nbformat_minor": 2
}
