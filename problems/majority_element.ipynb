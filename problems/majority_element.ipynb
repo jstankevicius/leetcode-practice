{
 "cells": [
  {
   "cell_type": "markdown",
   "metadata": {},
   "source": [
    "# Majority Element\n",
    "\n",
    "Given an array `nums` of size `n`, return the *majority element*. The majority element is the element that appears more than `n / 2` times. You may assume that the majority element always exists in the array.\n",
    "\n",
    "# Thought Process\n",
    "\n",
    "Keep track of counts of each number. At the end, go through all the counts and return the number with the largest count."
   ]
  },
  {
   "cell_type": "code",
   "execution_count": 4,
   "metadata": {},
   "outputs": [],
   "source": [
    "from typing import List\n",
    "\n",
    "from collections import defaultdict\n",
    "\n",
    "class Solution:\n",
    "    def majorityElement(self, nums: List[int]) -> int:\n",
    "        counts = defaultdict(lambda: 0)\n",
    "        for n in nums:\n",
    "            counts[n] += 1\n",
    "\n",
    "        max_n = 0\n",
    "        max_count = 0\n",
    "        for n, count, in counts.items():\n",
    "            if count > max_count:\n",
    "                max_n = n\n",
    "                max_count = count\n",
    "\n",
    "        return max_n"
   ]
  }
 ],
 "metadata": {
  "kernelspec": {
   "display_name": "Python 3.10.6 64-bit",
   "language": "python",
   "name": "python3"
  },
  "language_info": {
   "codemirror_mode": {
    "name": "ipython",
    "version": 3
   },
   "file_extension": ".py",
   "mimetype": "text/x-python",
   "name": "python",
   "nbconvert_exporter": "python",
   "pygments_lexer": "ipython3",
   "version": "3.10.6"
  },
  "orig_nbformat": 4,
  "vscode": {
   "interpreter": {
    "hash": "916dbcbb3f70747c44a77c7bcd40155683ae19c65e1c03b4aa3499c5328201f1"
   }
  }
 },
 "nbformat": 4,
 "nbformat_minor": 2
}
