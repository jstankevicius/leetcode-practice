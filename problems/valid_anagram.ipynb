{
 "cells": [
  {
   "cell_type": "markdown",
   "metadata": {},
   "source": [
    "# Valid Anagram\n",
    "\n",
    "Given two strings `s` and `t`, return true if `t` is an anagram of `s`, and false otherwise.\n",
    "\n",
    "An anagram is a word or phrase formed by rearranging the letters of a different word or phrase, typically using all the original letters exactly once.\n",
    "\n",
    "# Thought Process\n",
    "\n",
    "Easiest, most naive way is to turn both strings into a list of characters, then sort them and compare. This is O(nlgn), so clearly not optimal.\n",
    "\n",
    "Better is to go through one word (`s`, WLOG), and count how many times each character appears. Then go through `t`, decrementing the character's counter every time we encounter a character. At the end, the whole dictionary should be completely zeroed out."
   ]
  },
  {
   "cell_type": "code",
   "execution_count": null,
   "metadata": {},
   "outputs": [],
   "source": [
    "class Solution(object):\n",
    "    def isAnagram(self, s, t):\n",
    "        \"\"\"\n",
    "        :type s: str\n",
    "        :type t: str\n",
    "        :rtype: bool\n",
    "        \"\"\"\n",
    "        \n",
    "        counters = [0] * 26\n",
    "\n",
    "        for c in s:\n",
    "            # 'a' should map to 0, 'z' to 25.\n",
    "            counters[ord(c) - ord(\"a\")] += 1\n",
    "\n",
    "        for c in t:\n",
    "            counters[ord(c) - ord(\"a\")] -= 1\n",
    "\n",
    "        for v in counters:\n",
    "            if v != 0:\n",
    "                return False\n",
    "\n",
    "        return True\n"
   ]
  }
 ],
 "metadata": {
  "language_info": {
   "name": "python"
  },
  "orig_nbformat": 4
 },
 "nbformat": 4,
 "nbformat_minor": 2
}
