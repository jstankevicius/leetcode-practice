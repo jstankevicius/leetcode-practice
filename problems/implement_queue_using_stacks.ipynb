{
 "cells": [
  {
   "cell_type": "markdown",
   "metadata": {},
   "source": [
    "# Implement Queue using Stacks\n",
    "\n",
    "Implement a first in first out (FIFO) queue using only two stacks. The implemented queue should support all the functions of a normal queue (`push`, `peek`, `pop`, and `empty`).\n",
    "\n",
    "Implement the MyQueue class:\n",
    "\n",
    "* `void push(int x)` Pushes element x to the back of the queue.\n",
    "* `int pop()` Removes the element from the front of the queue and returns it.\n",
    "* `int peek()` Returns the element at the front of the queue.\n",
    "* `boolean empty()` Returns true if the queue is empty, false otherwise.\n",
    "\n",
    "Notes:\n",
    "\n",
    "* You must use only standard operations of a stack, which means only `push to top`, `peek/pop from top`, `size`, and `is empty` operations are valid.\n",
    "* Depending on your language, the stack may not be supported natively. You may simulate a stack using a list or deque (double-ended queue) as long as you use only a stack's standard operations.\n",
    "\n",
    "# Thought Process\n",
    "\n",
    "We'll try to do the followup instead of the original problem, which is states that all operations must be amortized O(1).\n",
    "\n",
    "Per the design, we'll have two stacks, `s1` and `s2`. `s1` will represent the \"back\" of the queue, i.e. the top of the stack will represent the tail element. `s2` will represent the \"front\" of the queue, where the top of the stack represents the head element.\n",
    "\n",
    "* `push` will always push items to the back of the queue, so it'll always operate on `s1`.\n",
    "* `pop` needs to know what the front of the queue looks like. If `s2` (our \"front\" representation) is empty, it'll convert `s1` into a \"front\" representation by popping everything off and putting it in `s2`, then popping the top. If `s2` has something in it, it'll just pop the top by default.\n",
    "* `peek` will function similarly to `pop`. If `s2` is empty, it'll convert `s1` into `s2`, then return the top element. Otherwise, it'll just return the top element of `s2`.\n",
    "* `empty` must check that both the front (`s2`) and the back (`s1`) are empty."
   ]
  },
  {
   "cell_type": "code",
   "execution_count": null,
   "metadata": {},
   "outputs": [],
   "source": [
    "class MyQueue:\n",
    "\n",
    "    def __init__(self):\n",
    "        self.s1 = []\n",
    "        self.s2 = []\n",
    "\n",
    "    def push(self, x: int) -> None:\n",
    "        self.s1.append(x)\n",
    "\n",
    "    def pop(self) -> int:\n",
    "\n",
    "        # If s2 is empty, need to convert s1\n",
    "        # into a queue.\n",
    "        if len(self.s2) == 0:\n",
    "            while len(self.s1) > 0:\n",
    "                self.s2.append(self.s1.pop())\n",
    "            \n",
    "        return self.s2.pop()\n",
    "\n",
    "    def peek(self) -> int:\n",
    "        # If s2 is empty, need to convert s1\n",
    "        # into a queue.\n",
    "        if len(self.s2) == 0:\n",
    "            while len(self.s1) > 0:\n",
    "                self.s2.append(self.s1.pop())\n",
    "\n",
    "        return self.s2[-1]\n",
    "\n",
    "    def empty(self) -> bool:\n",
    "        return len(self.s1) == 0 and len(self.s2) == 0\n",
    "\n",
    "\n",
    "# Your MyQueue object will be instantiated and called as such:\n",
    "# obj = MyQueue()\n",
    "# obj.push(x)\n",
    "# param_2 = obj.pop()\n",
    "# param_3 = obj.peek()\n",
    "# param_4 = obj.empty()"
   ]
  }
 ],
 "metadata": {
  "kernelspec": {
   "display_name": "Python 3.10.6 64-bit",
   "language": "python",
   "name": "python3"
  },
  "language_info": {
   "name": "python",
   "version": "3.10.6"
  },
  "orig_nbformat": 4,
  "vscode": {
   "interpreter": {
    "hash": "916dbcbb3f70747c44a77c7bcd40155683ae19c65e1c03b4aa3499c5328201f1"
   }
  }
 },
 "nbformat": 4,
 "nbformat_minor": 2
}
