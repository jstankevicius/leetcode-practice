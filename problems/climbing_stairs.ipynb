{
 "cells": [
  {
   "cell_type": "markdown",
   "metadata": {},
   "source": [
    "# Climbing Stairs\n",
    "\n",
    "You are climbing a staircase. It takes `n` steps to reach the top.\n",
    "\n",
    "Each time you can either climb 1 or 2 steps. In how many distinct ways can you climb to the top?\n",
    "\n",
    "# Thought Process\n",
    "\n",
    "\"How many ways\" questions are usually some kind of dynamic programming. \n",
    "\n",
    "Given we are at stair `i`, how many ways could we have gotten here? We know we came from either the stair just before this one OR the one before that (we can go 1 or 2 stairs at a time), so the number of ways we could have gotten here is:\n",
    "\n",
    "`num_ways(i - 1) + num_ways(i - 2) `.\n",
    "\n",
    "The base case is that there is 1 way to get to the first stair and 2 ways to get to the second. We don't need to worry about double-counting ways, because each path is independent."
   ]
  },
  {
   "cell_type": "code",
   "execution_count": 1,
   "metadata": {},
   "outputs": [],
   "source": [
    "class Solution:\n",
    "    def climbStairs(self, n: int) -> int:\n",
    "        if n == 1:\n",
    "            return 1\n",
    "        \n",
    "        previous_stair = 1\n",
    "        current_stair = 2\n",
    "\n",
    "        # Otherwise, start at stair 2\n",
    "        for i in range(2, n):\n",
    "            tmp = current_stair\n",
    "            current_stair += previous_stair\n",
    "            previous_stair = tmp\n",
    "\n",
    "        return current_stair"
   ]
  }
 ],
 "metadata": {
  "kernelspec": {
   "display_name": "Python 3.10.6 64-bit",
   "language": "python",
   "name": "python3"
  },
  "language_info": {
   "codemirror_mode": {
    "name": "ipython",
    "version": 3
   },
   "file_extension": ".py",
   "mimetype": "text/x-python",
   "name": "python",
   "nbconvert_exporter": "python",
   "pygments_lexer": "ipython3",
   "version": "3.10.6"
  },
  "orig_nbformat": 4,
  "vscode": {
   "interpreter": {
    "hash": "916dbcbb3f70747c44a77c7bcd40155683ae19c65e1c03b4aa3499c5328201f1"
   }
  }
 },
 "nbformat": 4,
 "nbformat_minor": 2
}
