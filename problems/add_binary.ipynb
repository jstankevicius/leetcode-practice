{
 "cells": [
  {
   "cell_type": "markdown",
   "metadata": {},
   "source": [
    "# Add Binary\n",
    "\n",
    "Given two binary strings `a` and `b`, return *their sum as a binary string.*\n",
    "\n",
    "# Thought Process\n",
    "\n",
    "Can use builtin Python functions to convert between binary and decimal, but that would probably be considered cheating. We can also do binary adding with a carry bit like an ALU would, so we'll do just that."
   ]
  },
  {
   "cell_type": "code",
   "execution_count": 1,
   "metadata": {},
   "outputs": [],
   "source": [
    "class Solution:\n",
    "    def addBinary(self, a: str, b: str) -> str:\n",
    "        sz = max(len(a), len(b))\n",
    "        result = [0] * sz\n",
    "        \n",
    "        # Pad 'a' and 'b' to make our life easier\n",
    "        a = \"0\" * (sz - len(a)) + a\n",
    "        b = \"0\" * (sz - len(b)) + b\n",
    "        \n",
    "        carry = 0\n",
    "        \n",
    "        for i in range(min(len(a), len(b))):\n",
    "            idx = -(i + 1)\n",
    "            da = int(a[idx])\n",
    "            db = int(b[idx])\n",
    "            \n",
    "            res = (da + db + carry) % 2\n",
    "            if da + db + carry > 1:\n",
    "                carry = 1\n",
    "            else:\n",
    "                carry = 0\n",
    "                \n",
    "            result[idx] = res\n",
    "        \n",
    "        if carry > 0:\n",
    "            return \"1\" + \"\".join([str(i) for i in result])\n",
    "        else:\n",
    "            return \"\".join([str(i) for i in result])"
   ]
  }
 ],
 "metadata": {
  "kernelspec": {
   "display_name": "Python 3.10.6 64-bit",
   "language": "python",
   "name": "python3"
  },
  "language_info": {
   "codemirror_mode": {
    "name": "ipython",
    "version": 3
   },
   "file_extension": ".py",
   "mimetype": "text/x-python",
   "name": "python",
   "nbconvert_exporter": "python",
   "pygments_lexer": "ipython3",
   "version": "3.10.6"
  },
  "orig_nbformat": 4,
  "vscode": {
   "interpreter": {
    "hash": "916dbcbb3f70747c44a77c7bcd40155683ae19c65e1c03b4aa3499c5328201f1"
   }
  }
 },
 "nbformat": 4,
 "nbformat_minor": 2
}
