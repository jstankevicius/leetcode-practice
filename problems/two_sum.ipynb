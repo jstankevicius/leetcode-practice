{
 "cells": [
  {
   "cell_type": "markdown",
   "metadata": {},
   "source": [
    "# Two Sum\n",
    "\n",
    "Given an array of integers `nums` and an integer `target`, return indices of the two numbers such that they add up to `target`.\n",
    "\n",
    "You may assume that each input would have exactly one solution, and you may not use the same element twice.\n",
    "\n",
    "You can return the answer in any order."
   ]
  },
  {
   "cell_type": "markdown",
   "metadata": {},
   "source": [
    "## Thought Process"
   ]
  },
  {
   "cell_type": "markdown",
   "metadata": {},
   "source": [
    "Assumptions:\n",
    "* Each input has exactly one solution. This means we are guaranteed the\n",
    "  existence of the two numbers.\n",
    "* May not use the same element twice. This means we'll need a check once we find\n",
    "  a candidate pair to check that the indices are not the same.\n",
    "\n",
    "This is a fairly simple problem. The naive way to approach it would be to simply\n",
    "enumerate all possible pairs of numbers in `nums`, so like this:"
   ]
  },
  {
   "cell_type": "code",
   "execution_count": 1,
   "metadata": {},
   "outputs": [],
   "source": [
    "class Solution:\n",
    "    def twoSum(self, nums, target):\n",
    "        n = len(nums)\n",
    "        for i in range(n):\n",
    "            for j in range(n):\n",
    "                if nums[i] + nums[j] == target and i != j:\n",
    "                    return sorted([i, j])\n",
    "\n",
    "        # Should never reach here"
   ]
  },
  {
   "cell_type": "markdown",
   "metadata": {},
   "source": [
    "This works, but is extremely inefficient with O(n^2) complexity. A better\n",
    "approach is to notice that in the expression `a + b = target` we always know two\n",
    "of the numbers (`a` and `target`). We then know that we need a number `b` such\n",
    "that `b = target - a`. How could we find this number? By keeping past numbers in\n",
    "a lookup table that maps numbers to their indices."
   ]
  },
  {
   "cell_type": "markdown",
   "metadata": {},
   "source": [
    "## Solution: O(n) time, O(n) space"
   ]
  },
  {
   "cell_type": "code",
   "execution_count": 2,
   "metadata": {},
   "outputs": [],
   "source": [
    "class Solution:\n",
    "    def twoSum(self, nums, target):\n",
    "        n = len(nums)\n",
    "        lookup_table = {}\n",
    "        for i in range(n):\n",
    "            a = nums[i]\n",
    "            b = target - a\n",
    "\n",
    "            if b in lookup_table:\n",
    "                return [lookup_table[b], i]\n",
    "            else:\n",
    "                lookup_table[a] = i\n",
    "            \n",
    "        # Should never reach here"
   ]
  },
  {
   "cell_type": "markdown",
   "metadata": {},
   "source": [
    "### Brief side-note\n",
    "\n",
    "While initially doing this problem, I was trying to figure out why the following\n",
    "solution didn't work:"
   ]
  },
  {
   "cell_type": "code",
   "execution_count": 3,
   "metadata": {},
   "outputs": [],
   "source": [
    "class Solution:\n",
    "    def twoSum(self, nums, target):\n",
    "        n = len(nums)\n",
    "        lookup_table = {}\n",
    "        for i in range(n):\n",
    "            a = nums[i]\n",
    "            b = target - a\n",
    "            \n",
    "            lookup_table[a] = i\n",
    "\n",
    "            if b in lookup_table and lookup_table[b] != i:\n",
    "                return [lookup_table[b], i]\n",
    "            \n",
    "        # Should never reach here"
   ]
  },
  {
   "cell_type": "markdown",
   "metadata": {},
   "source": [
    "Why does this not work? Why should we only add `(a: i)` to the lookup table *after* checking if `b` is in the table?\n",
    "\n",
    "Consider what happens on input `nums=[3, 3], target=6`. On the first iteration, 3 is immediately stored into `lookup_table` with index 0. So `a = 3`, `i = 0`, and we know that we need `b = 3`. We check `lookup_table`, and find `(3: 0)`. 0 also happens to be the index that we are at, so we move on. On the second iteration the same exact thing happens - the entry for 3 is overwritten with the current index, so we end up violating the condition that `lookup_table[b] != i`. We thus end up returning nothing."
   ]
  }
 ],
 "metadata": {
  "kernelspec": {
   "display_name": "Python 3.10.6 64-bit",
   "language": "python",
   "name": "python3"
  },
  "language_info": {
   "codemirror_mode": {
    "name": "ipython",
    "version": 3
   },
   "file_extension": ".py",
   "mimetype": "text/x-python",
   "name": "python",
   "nbconvert_exporter": "python",
   "pygments_lexer": "ipython3",
   "version": "3.10.6"
  },
  "orig_nbformat": 4,
  "vscode": {
   "interpreter": {
    "hash": "916dbcbb3f70747c44a77c7bcd40155683ae19c65e1c03b4aa3499c5328201f1"
   }
  }
 },
 "nbformat": 4,
 "nbformat_minor": 2
}
