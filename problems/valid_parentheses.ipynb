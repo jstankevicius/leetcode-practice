{
 "cells": [
  {
   "cell_type": "markdown",
   "metadata": {},
   "source": [
    "# Valid Parentheses\n",
    "\n",
    "Given a string s containing just the characters `(`, `)`, `{`, `}`, `[` and `]`, determine if the input string is valid.\n",
    "\n",
    "An input string is valid if:\n",
    "\n",
    "* Open brackets must be closed by the same type of brackets.\n",
    "* Open brackets must be closed in the correct order.\n"
   ]
  },
  {
   "cell_type": "markdown",
   "metadata": {},
   "source": [
    "## Thought Process\n",
    "\n",
    "Classic stack problem, not much explanation needed. It is made a little more complicated by the fact that we aren't restricted to just `(` and `)` but instead have different types of enclosing elements. However, this doesn't add much additional logic to our code - just two extra cases to check when we're popping from the stack."
   ]
  },
  {
   "cell_type": "code",
   "execution_count": null,
   "metadata": {},
   "outputs": [],
   "source": [
    "class Solution:\n",
    "    def isValid(self, s: str) -> bool:\n",
    "\n",
    "        # O(1) dict that maps closing characters to corresponding\n",
    "        # opening characters.\n",
    "        opposite = {\")\":\"(\", \"]\":\"[\", \"}\":\"{\"}\n",
    "        stack = []\n",
    "        for c in s:\n",
    "\n",
    "            # Is this an \"open\" character\n",
    "            if c in opposite.values():\n",
    "                stack.append(c)\n",
    "\n",
    "            # If not, it must be closed:\n",
    "            else:\n",
    "\n",
    "                # Check that there's something that was opened\n",
    "                # prior to closing:\n",
    "                if len(stack) == 0:\n",
    "                    return False\n",
    "                \n",
    "                # Check that the type of the opening character\n",
    "                # matches the closing character.\n",
    "                if opposite[c] != stack.pop():\n",
    "                    return False\n",
    "        \n",
    "        # Once we're done, there should be no opening characters left.\n",
    "        return len(stack) == 0"
   ]
  }
 ],
 "metadata": {
  "language_info": {
   "name": "python"
  },
  "orig_nbformat": 4
 },
 "nbformat": 4,
 "nbformat_minor": 2
}
